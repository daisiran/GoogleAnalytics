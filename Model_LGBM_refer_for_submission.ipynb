{
 "cells": [
  {
   "cell_type": "code",
   "execution_count": 1,
   "metadata": {
    "collapsed": true
   },
   "outputs": [],
   "source": [
    "import warnings\n",
    "warnings.filterwarnings('ignore')\n",
    "import numpy as np\n",
    "import pandas as pd\n",
    "import math\n",
    "import matplotlib.pyplot as plt\n",
    "import matplotlib.cm as cm\n",
    "import json\n",
    "import sklearn\n",
    "%matplotlib inline"
   ]
  },
  {
   "cell_type": "code",
   "execution_count": 2,
   "metadata": {
    "collapsed": true
   },
   "outputs": [],
   "source": [
    "basic = pd.read_csv('start.csv')"
   ]
  },
  {
   "cell_type": "code",
   "execution_count": 41,
   "metadata": {},
   "outputs": [
    {
     "data": {
      "text/plain": [
       "(836759, 29)"
      ]
     },
     "execution_count": 41,
     "metadata": {},
     "output_type": "execute_result"
    }
   ],
   "source": [
    "basic.shape"
   ]
  },
  {
   "cell_type": "code",
   "execution_count": 42,
   "metadata": {
    "scrolled": true
   },
   "outputs": [
    {
     "data": {
      "text/html": [
       "<div>\n",
       "<style scoped>\n",
       "    .dataframe tbody tr th:only-of-type {\n",
       "        vertical-align: middle;\n",
       "    }\n",
       "\n",
       "    .dataframe tbody tr th {\n",
       "        vertical-align: top;\n",
       "    }\n",
       "\n",
       "    .dataframe thead th {\n",
       "        text-align: right;\n",
       "    }\n",
       "</style>\n",
       "<table border=\"1\" class=\"dataframe\">\n",
       "  <thead>\n",
       "    <tr style=\"text-align: right;\">\n",
       "      <th></th>\n",
       "      <th>visitStartTime</th>\n",
       "      <th>fullVisitorId</th>\n",
       "      <th>visitNumber</th>\n",
       "      <th>browser</th>\n",
       "      <th>operatingSystem</th>\n",
       "      <th>deviceCategory</th>\n",
       "      <th>month</th>\n",
       "      <th>day</th>\n",
       "      <th>hour</th>\n",
       "      <th>weekday</th>\n",
       "      <th>...</th>\n",
       "      <th>subContinent</th>\n",
       "      <th>city</th>\n",
       "      <th>region</th>\n",
       "      <th>metro</th>\n",
       "      <th>hits</th>\n",
       "      <th>newVisits</th>\n",
       "      <th>pageviews</th>\n",
       "      <th>medium</th>\n",
       "      <th>isTrueDirect</th>\n",
       "      <th>transactionRevenue</th>\n",
       "    </tr>\n",
       "  </thead>\n",
       "  <tbody>\n",
       "    <tr>\n",
       "      <th>0</th>\n",
       "      <td>2016-09-03 06:24:50</td>\n",
       "      <td>9703195967386511074</td>\n",
       "      <td>1</td>\n",
       "      <td>Edge</td>\n",
       "      <td>Windows</td>\n",
       "      <td>desktop</td>\n",
       "      <td>9</td>\n",
       "      <td>3</td>\n",
       "      <td>6</td>\n",
       "      <td>5</td>\n",
       "      <td>...</td>\n",
       "      <td>Eastern Europe</td>\n",
       "      <td>not available in demo dataset</td>\n",
       "      <td>not available in demo dataset</td>\n",
       "      <td>not available in demo dataset</td>\n",
       "      <td>2</td>\n",
       "      <td>True</td>\n",
       "      <td>2</td>\n",
       "      <td>organic</td>\n",
       "      <td>True</td>\n",
       "      <td>0.0</td>\n",
       "    </tr>\n",
       "    <tr>\n",
       "      <th>1</th>\n",
       "      <td>2016-09-02 22:29:32</td>\n",
       "      <td>5264054794625558679</td>\n",
       "      <td>2</td>\n",
       "      <td>Safari</td>\n",
       "      <td>iOS</td>\n",
       "      <td>mobile</td>\n",
       "      <td>9</td>\n",
       "      <td>2</td>\n",
       "      <td>22</td>\n",
       "      <td>4</td>\n",
       "      <td>...</td>\n",
       "      <td>Northern America</td>\n",
       "      <td>not available in demo dataset</td>\n",
       "      <td>not available in demo dataset</td>\n",
       "      <td>not available in demo dataset</td>\n",
       "      <td>2</td>\n",
       "      <td>False</td>\n",
       "      <td>2</td>\n",
       "      <td>organic</td>\n",
       "      <td>True</td>\n",
       "      <td>0.0</td>\n",
       "    </tr>\n",
       "    <tr>\n",
       "      <th>2</th>\n",
       "      <td>2016-09-02 17:56:45</td>\n",
       "      <td>791674562423114515</td>\n",
       "      <td>1</td>\n",
       "      <td>Opera</td>\n",
       "      <td>Windows</td>\n",
       "      <td>desktop</td>\n",
       "      <td>9</td>\n",
       "      <td>2</td>\n",
       "      <td>17</td>\n",
       "      <td>4</td>\n",
       "      <td>...</td>\n",
       "      <td>Eastern Europe</td>\n",
       "      <td>not available in demo dataset</td>\n",
       "      <td>not available in demo dataset</td>\n",
       "      <td>not available in demo dataset</td>\n",
       "      <td>2</td>\n",
       "      <td>True</td>\n",
       "      <td>2</td>\n",
       "      <td>organic</td>\n",
       "      <td>True</td>\n",
       "      <td>0.0</td>\n",
       "    </tr>\n",
       "    <tr>\n",
       "      <th>3</th>\n",
       "      <td>2016-09-02 16:16:36</td>\n",
       "      <td>1346279730040488573</td>\n",
       "      <td>1</td>\n",
       "      <td>Chrome</td>\n",
       "      <td>iOS</td>\n",
       "      <td>mobile</td>\n",
       "      <td>9</td>\n",
       "      <td>2</td>\n",
       "      <td>16</td>\n",
       "      <td>4</td>\n",
       "      <td>...</td>\n",
       "      <td>Southern Europe</td>\n",
       "      <td>not available in demo dataset</td>\n",
       "      <td>not available in demo dataset</td>\n",
       "      <td>not available in demo dataset</td>\n",
       "      <td>2</td>\n",
       "      <td>True</td>\n",
       "      <td>2</td>\n",
       "      <td>organic</td>\n",
       "      <td>True</td>\n",
       "      <td>0.0</td>\n",
       "    </tr>\n",
       "  </tbody>\n",
       "</table>\n",
       "<p>4 rows × 29 columns</p>\n",
       "</div>"
      ],
      "text/plain": [
       "        visitStartTime        fullVisitorId  visitNumber browser  \\\n",
       "0  2016-09-03 06:24:50  9703195967386511074            1    Edge   \n",
       "1  2016-09-02 22:29:32  5264054794625558679            2  Safari   \n",
       "2  2016-09-02 17:56:45   791674562423114515            1   Opera   \n",
       "3  2016-09-02 16:16:36  1346279730040488573            1  Chrome   \n",
       "\n",
       "  operatingSystem deviceCategory  month  day  hour  weekday  \\\n",
       "0         Windows        desktop      9    3     6        5   \n",
       "1             iOS         mobile      9    2    22        4   \n",
       "2         Windows        desktop      9    2    17        4   \n",
       "3             iOS         mobile      9    2    16        4   \n",
       "\n",
       "         ...              subContinent                           city  \\\n",
       "0        ...            Eastern Europe  not available in demo dataset   \n",
       "1        ...          Northern America  not available in demo dataset   \n",
       "2        ...            Eastern Europe  not available in demo dataset   \n",
       "3        ...           Southern Europe  not available in demo dataset   \n",
       "\n",
       "                          region                          metro  hits  \\\n",
       "0  not available in demo dataset  not available in demo dataset     2   \n",
       "1  not available in demo dataset  not available in demo dataset     2   \n",
       "2  not available in demo dataset  not available in demo dataset     2   \n",
       "3  not available in demo dataset  not available in demo dataset     2   \n",
       "\n",
       "   newVisits  pageviews   medium isTrueDirect transactionRevenue  \n",
       "0       True          2  organic         True                0.0  \n",
       "1      False          2  organic         True                0.0  \n",
       "2       True          2  organic         True                0.0  \n",
       "3       True          2  organic         True                0.0  \n",
       "\n",
       "[4 rows x 29 columns]"
      ]
     },
     "execution_count": 42,
     "metadata": {},
     "output_type": "execute_result"
    }
   ],
   "source": [
    "basic.head(4)"
   ]
  },
  {
   "cell_type": "markdown",
   "metadata": {},
   "source": [
    "## 1. Boundry of training/testing data \n",
    "- So we already filter only rows with bounce = 0 for both train & test\n",
    "- The following row is the first row of test data with bounce = 0\n",
    "- rows before index 453023 are training data, rows since index 453023 are test data"
   ]
  },
  {
   "cell_type": "code",
   "execution_count": 43,
   "metadata": {},
   "outputs": [
    {
     "data": {
      "text/plain": [
       "visitStartTime        2017-10-16 10:50:24\n",
       "fullVisitorId         6167871330617112363\n",
       "visitNumber                             2\n",
       "browser                            Chrome\n",
       "operatingSystem                 Macintosh\n",
       "deviceCategory                    desktop\n",
       "month                                  10\n",
       "day                                    16\n",
       "hour                                   10\n",
       "weekday                                 0\n",
       "is_weekend                          False\n",
       "month_sin                       -0.866025\n",
       "month_cos                             0.5\n",
       "hour_sin                              0.5\n",
       "hour_cos                        -0.866025\n",
       "day_sin                         -0.101168\n",
       "day_cos                         -0.994869\n",
       "continent                            Asia\n",
       "country                         Singapore\n",
       "subContinent               Southeast Asia\n",
       "city                            (not set)\n",
       "region                          (not set)\n",
       "metro                           (not set)\n",
       "hits                                    4\n",
       "newVisits                           False\n",
       "pageviews                               4\n",
       "medium                            organic\n",
       "isTrueDirect                         True\n",
       "transactionRevenue                      0\n",
       "Name: 453023, dtype: object"
      ]
     },
     "execution_count": 43,
     "metadata": {},
     "output_type": "execute_result"
    }
   ],
   "source": [
    "basic.loc[453023]"
   ]
  },
  {
   "cell_type": "code",
   "execution_count": 44,
   "metadata": {},
   "outputs": [
    {
     "data": {
      "text/plain": [
       "Index(['visitStartTime', 'fullVisitorId', 'visitNumber', 'browser',\n",
       "       'operatingSystem', 'deviceCategory', 'month', 'day', 'hour', 'weekday',\n",
       "       'is_weekend', 'month_sin', 'month_cos', 'hour_sin', 'hour_cos',\n",
       "       'day_sin', 'day_cos', 'continent', 'country', 'subContinent', 'city',\n",
       "       'region', 'metro', 'hits', 'newVisits', 'pageviews', 'medium',\n",
       "       'isTrueDirect', 'transactionRevenue'],\n",
       "      dtype='object')"
      ]
     },
     "execution_count": 44,
     "metadata": {},
     "output_type": "execute_result"
    }
   ],
   "source": [
    "basic.columns"
   ]
  },
  {
   "cell_type": "markdown",
   "metadata": {},
   "source": [
    "## 2. Categorical encoding\n",
    "- We provided a function that can get the dummy variable of a specific column with top n counts\n",
    "- I.e., if a column has 6 classes, and you want only 4 classes, you can use our function to combine the 4th - 6th class into one class\n",
    "- Please see the example below\n",
    "- Meanwhile, there're many options for categorical encoding, which I found this place quite helpful\n",
    "- http://contrib.scikit-learn.org/categorical-encoding/"
   ]
  },
  {
   "cell_type": "code",
   "execution_count": 3,
   "metadata": {
    "collapsed": true
   },
   "outputs": [],
   "source": [
    "def topn_class(dataset, column_name:str, num:int):\n",
    "    # column_name must be a string, num is the top n classes you wanna leave in total\n",
    "    column = pd.get_dummies(dataset[column_name])\n",
    "    new_feature_df = column.copy()\n",
    "    df = pd.DataFrame(np.sum(new_feature_df, axis=0))\n",
    "    \n",
    "    temp_list = list((df.sort_values(by = 0, ascending=False).index))\n",
    "    try:\n",
    "        temp_list.remove('(not set)')\n",
    "    except:\n",
    "        pass\n",
    "    separated_category = temp_list[0:num]\n",
    "    \n",
    "    combined_category = list(set(new_feature_df.columns) - set(separated_category))\n",
    "    new_feature_df['Other'] = new_feature_df[combined_category].sum(axis = 1)\n",
    "    new_feature_df = new_feature_df.drop(combined_category, axis=1)\n",
    "    \n",
    "    return(new_feature_df)"
   ]
  },
  {
   "cell_type": "code",
   "execution_count": 46,
   "metadata": {},
   "outputs": [
    {
     "data": {
      "text/html": [
       "<div>\n",
       "<style scoped>\n",
       "    .dataframe tbody tr th:only-of-type {\n",
       "        vertical-align: middle;\n",
       "    }\n",
       "\n",
       "    .dataframe tbody tr th {\n",
       "        vertical-align: top;\n",
       "    }\n",
       "\n",
       "    .dataframe thead th {\n",
       "        text-align: right;\n",
       "    }\n",
       "</style>\n",
       "<table border=\"1\" class=\"dataframe\">\n",
       "  <thead>\n",
       "    <tr style=\"text-align: right;\">\n",
       "      <th></th>\n",
       "      <th>Android Webview</th>\n",
       "      <th>Chrome</th>\n",
       "      <th>Edge</th>\n",
       "      <th>Firefox</th>\n",
       "      <th>Internet Explorer</th>\n",
       "      <th>Opera</th>\n",
       "      <th>Opera Mini</th>\n",
       "      <th>Safari</th>\n",
       "      <th>Safari (in-app)</th>\n",
       "      <th>Samsung Internet</th>\n",
       "      <th>Other</th>\n",
       "    </tr>\n",
       "  </thead>\n",
       "  <tbody>\n",
       "    <tr>\n",
       "      <th>0</th>\n",
       "      <td>0</td>\n",
       "      <td>0</td>\n",
       "      <td>1</td>\n",
       "      <td>0</td>\n",
       "      <td>0</td>\n",
       "      <td>0</td>\n",
       "      <td>0</td>\n",
       "      <td>0</td>\n",
       "      <td>0</td>\n",
       "      <td>0</td>\n",
       "      <td>0</td>\n",
       "    </tr>\n",
       "    <tr>\n",
       "      <th>1</th>\n",
       "      <td>0</td>\n",
       "      <td>0</td>\n",
       "      <td>0</td>\n",
       "      <td>0</td>\n",
       "      <td>0</td>\n",
       "      <td>0</td>\n",
       "      <td>0</td>\n",
       "      <td>1</td>\n",
       "      <td>0</td>\n",
       "      <td>0</td>\n",
       "      <td>0</td>\n",
       "    </tr>\n",
       "    <tr>\n",
       "      <th>2</th>\n",
       "      <td>0</td>\n",
       "      <td>0</td>\n",
       "      <td>0</td>\n",
       "      <td>0</td>\n",
       "      <td>0</td>\n",
       "      <td>1</td>\n",
       "      <td>0</td>\n",
       "      <td>0</td>\n",
       "      <td>0</td>\n",
       "      <td>0</td>\n",
       "      <td>0</td>\n",
       "    </tr>\n",
       "    <tr>\n",
       "      <th>3</th>\n",
       "      <td>0</td>\n",
       "      <td>1</td>\n",
       "      <td>0</td>\n",
       "      <td>0</td>\n",
       "      <td>0</td>\n",
       "      <td>0</td>\n",
       "      <td>0</td>\n",
       "      <td>0</td>\n",
       "      <td>0</td>\n",
       "      <td>0</td>\n",
       "      <td>0</td>\n",
       "    </tr>\n",
       "    <tr>\n",
       "      <th>4</th>\n",
       "      <td>0</td>\n",
       "      <td>1</td>\n",
       "      <td>0</td>\n",
       "      <td>0</td>\n",
       "      <td>0</td>\n",
       "      <td>0</td>\n",
       "      <td>0</td>\n",
       "      <td>0</td>\n",
       "      <td>0</td>\n",
       "      <td>0</td>\n",
       "      <td>0</td>\n",
       "    </tr>\n",
       "  </tbody>\n",
       "</table>\n",
       "</div>"
      ],
      "text/plain": [
       "   Android Webview  Chrome  Edge  Firefox  Internet Explorer  Opera  \\\n",
       "0                0       0     1        0                  0      0   \n",
       "1                0       0     0        0                  0      0   \n",
       "2                0       0     0        0                  0      1   \n",
       "3                0       1     0        0                  0      0   \n",
       "4                0       1     0        0                  0      0   \n",
       "\n",
       "   Opera Mini  Safari  Safari (in-app)  Samsung Internet  Other  \n",
       "0           0       0                0                 0      0  \n",
       "1           0       1                0                 0      0  \n",
       "2           0       0                0                 0      0  \n",
       "3           0       0                0                 0      0  \n",
       "4           0       0                0                 0      0  "
      ]
     },
     "execution_count": 46,
     "metadata": {},
     "output_type": "execute_result"
    }
   ],
   "source": [
    "topn_class(basic,'browser', 10).head()"
   ]
  },
  {
   "cell_type": "code",
   "execution_count": 47,
   "metadata": {
    "collapsed": true
   },
   "outputs": [],
   "source": [
    "b = topn_class(basic,'browser', 10)"
   ]
  },
  {
   "cell_type": "code",
   "execution_count": 48,
   "metadata": {
    "collapsed": true
   },
   "outputs": [],
   "source": [
    "o = topn_class(basic,'operatingSystem', 7)"
   ]
  },
  {
   "cell_type": "code",
   "execution_count": 50,
   "metadata": {},
   "outputs": [
    {
     "data": {
      "text/html": [
       "<div>\n",
       "<style scoped>\n",
       "    .dataframe tbody tr th:only-of-type {\n",
       "        vertical-align: middle;\n",
       "    }\n",
       "\n",
       "    .dataframe tbody tr th {\n",
       "        vertical-align: top;\n",
       "    }\n",
       "\n",
       "    .dataframe thead th {\n",
       "        text-align: right;\n",
       "    }\n",
       "</style>\n",
       "<table border=\"1\" class=\"dataframe\">\n",
       "  <thead>\n",
       "    <tr style=\"text-align: right;\">\n",
       "      <th></th>\n",
       "      <th>visitStartTime</th>\n",
       "      <th>fullVisitorId</th>\n",
       "      <th>visitNumber</th>\n",
       "      <th>browser</th>\n",
       "      <th>operatingSystem</th>\n",
       "      <th>deviceCategory</th>\n",
       "      <th>month</th>\n",
       "      <th>day</th>\n",
       "      <th>hour</th>\n",
       "      <th>weekday</th>\n",
       "      <th>...</th>\n",
       "      <th>Samsung Internet</th>\n",
       "      <th>Other</th>\n",
       "      <th>Android</th>\n",
       "      <th>Chrome OS</th>\n",
       "      <th>Linux</th>\n",
       "      <th>Macintosh</th>\n",
       "      <th>Windows</th>\n",
       "      <th>Windows Phone</th>\n",
       "      <th>iOS</th>\n",
       "      <th>Other</th>\n",
       "    </tr>\n",
       "  </thead>\n",
       "  <tbody>\n",
       "    <tr>\n",
       "      <th>0</th>\n",
       "      <td>2016-09-03 06:24:50</td>\n",
       "      <td>9703195967386511074</td>\n",
       "      <td>1</td>\n",
       "      <td>Edge</td>\n",
       "      <td>Windows</td>\n",
       "      <td>desktop</td>\n",
       "      <td>9</td>\n",
       "      <td>3</td>\n",
       "      <td>6</td>\n",
       "      <td>5</td>\n",
       "      <td>...</td>\n",
       "      <td>0</td>\n",
       "      <td>0</td>\n",
       "      <td>0</td>\n",
       "      <td>0</td>\n",
       "      <td>0</td>\n",
       "      <td>0</td>\n",
       "      <td>1</td>\n",
       "      <td>0</td>\n",
       "      <td>0</td>\n",
       "      <td>0</td>\n",
       "    </tr>\n",
       "    <tr>\n",
       "      <th>1</th>\n",
       "      <td>2016-09-02 22:29:32</td>\n",
       "      <td>5264054794625558679</td>\n",
       "      <td>2</td>\n",
       "      <td>Safari</td>\n",
       "      <td>iOS</td>\n",
       "      <td>mobile</td>\n",
       "      <td>9</td>\n",
       "      <td>2</td>\n",
       "      <td>22</td>\n",
       "      <td>4</td>\n",
       "      <td>...</td>\n",
       "      <td>0</td>\n",
       "      <td>0</td>\n",
       "      <td>0</td>\n",
       "      <td>0</td>\n",
       "      <td>0</td>\n",
       "      <td>0</td>\n",
       "      <td>0</td>\n",
       "      <td>0</td>\n",
       "      <td>1</td>\n",
       "      <td>0</td>\n",
       "    </tr>\n",
       "    <tr>\n",
       "      <th>2</th>\n",
       "      <td>2016-09-02 17:56:45</td>\n",
       "      <td>791674562423114515</td>\n",
       "      <td>1</td>\n",
       "      <td>Opera</td>\n",
       "      <td>Windows</td>\n",
       "      <td>desktop</td>\n",
       "      <td>9</td>\n",
       "      <td>2</td>\n",
       "      <td>17</td>\n",
       "      <td>4</td>\n",
       "      <td>...</td>\n",
       "      <td>0</td>\n",
       "      <td>0</td>\n",
       "      <td>0</td>\n",
       "      <td>0</td>\n",
       "      <td>0</td>\n",
       "      <td>0</td>\n",
       "      <td>1</td>\n",
       "      <td>0</td>\n",
       "      <td>0</td>\n",
       "      <td>0</td>\n",
       "    </tr>\n",
       "    <tr>\n",
       "      <th>3</th>\n",
       "      <td>2016-09-02 16:16:36</td>\n",
       "      <td>1346279730040488573</td>\n",
       "      <td>1</td>\n",
       "      <td>Chrome</td>\n",
       "      <td>iOS</td>\n",
       "      <td>mobile</td>\n",
       "      <td>9</td>\n",
       "      <td>2</td>\n",
       "      <td>16</td>\n",
       "      <td>4</td>\n",
       "      <td>...</td>\n",
       "      <td>0</td>\n",
       "      <td>0</td>\n",
       "      <td>0</td>\n",
       "      <td>0</td>\n",
       "      <td>0</td>\n",
       "      <td>0</td>\n",
       "      <td>0</td>\n",
       "      <td>0</td>\n",
       "      <td>1</td>\n",
       "      <td>0</td>\n",
       "    </tr>\n",
       "    <tr>\n",
       "      <th>4</th>\n",
       "      <td>2016-09-02 22:54:25</td>\n",
       "      <td>8770237469311081313</td>\n",
       "      <td>1</td>\n",
       "      <td>Chrome</td>\n",
       "      <td>Macintosh</td>\n",
       "      <td>desktop</td>\n",
       "      <td>9</td>\n",
       "      <td>2</td>\n",
       "      <td>22</td>\n",
       "      <td>4</td>\n",
       "      <td>...</td>\n",
       "      <td>0</td>\n",
       "      <td>0</td>\n",
       "      <td>0</td>\n",
       "      <td>0</td>\n",
       "      <td>0</td>\n",
       "      <td>1</td>\n",
       "      <td>0</td>\n",
       "      <td>0</td>\n",
       "      <td>0</td>\n",
       "      <td>0</td>\n",
       "    </tr>\n",
       "  </tbody>\n",
       "</table>\n",
       "<p>5 rows × 48 columns</p>\n",
       "</div>"
      ],
      "text/plain": [
       "        visitStartTime        fullVisitorId  visitNumber browser  \\\n",
       "0  2016-09-03 06:24:50  9703195967386511074            1    Edge   \n",
       "1  2016-09-02 22:29:32  5264054794625558679            2  Safari   \n",
       "2  2016-09-02 17:56:45   791674562423114515            1   Opera   \n",
       "3  2016-09-02 16:16:36  1346279730040488573            1  Chrome   \n",
       "4  2016-09-02 22:54:25  8770237469311081313            1  Chrome   \n",
       "\n",
       "  operatingSystem deviceCategory  month  day  hour  weekday  ...   \\\n",
       "0         Windows        desktop      9    3     6        5  ...    \n",
       "1             iOS         mobile      9    2    22        4  ...    \n",
       "2         Windows        desktop      9    2    17        4  ...    \n",
       "3             iOS         mobile      9    2    16        4  ...    \n",
       "4       Macintosh        desktop      9    2    22        4  ...    \n",
       "\n",
       "   Samsung Internet Other  Android  Chrome OS  Linux  Macintosh  Windows  \\\n",
       "0                 0     0        0          0      0          0        1   \n",
       "1                 0     0        0          0      0          0        0   \n",
       "2                 0     0        0          0      0          0        1   \n",
       "3                 0     0        0          0      0          0        0   \n",
       "4                 0     0        0          0      0          1        0   \n",
       "\n",
       "  Windows Phone iOS Other  \n",
       "0             0   0     0  \n",
       "1             0   1     0  \n",
       "2             0   0     0  \n",
       "3             0   1     0  \n",
       "4             0   0     0  \n",
       "\n",
       "[5 rows x 48 columns]"
      ]
     },
     "execution_count": 50,
     "metadata": {},
     "output_type": "execute_result"
    }
   ],
   "source": [
    "sample_merge = pd.concat([basic, b, o], axis=1, join='inner').head()\n",
    "sample_merge"
   ]
  },
  {
   "cell_type": "markdown",
   "metadata": {},
   "source": [
    "## 3. Numerical processing\n",
    "- We provided a function that can create several bins for a specific numeric column\n",
    "- Reference: https://stackoverflow.com/questions/30211923/what-is-the-difference-between-pandas-qcut-and-pandas-cut\n",
    "- You can also play around with other methods, like normalization"
   ]
  },
  {
   "cell_type": "code",
   "execution_count": 4,
   "metadata": {
    "collapsed": true
   },
   "outputs": [],
   "source": [
    "def bins(dataset, column_name:str, num:int, method:str):\n",
    "    # column_name must be a string, num is the total bins you wanna assign to in total\n",
    "    # method also has to be a string, with two options: 'qcut'(same bin size) or 'cut' (close value in the same bin)\n",
    "    if method == 'qcut':\n",
    "        category = pd.qcut(dataset[column_name],num)\n",
    "        category = category.to_frame()\n",
    "    elif method == 'cut':\n",
    "        category = pd.cut(dataset[column_name],num)\n",
    "        category = category.to_frame()\n",
    "    else:\n",
    "        print('please type a correct method, whether qcut or cut.')\n",
    "    return category"
   ]
  },
  {
   "cell_type": "code",
   "execution_count": 5,
   "metadata": {},
   "outputs": [
    {
     "data": {
      "text/html": [
       "<div>\n",
       "<style scoped>\n",
       "    .dataframe tbody tr th:only-of-type {\n",
       "        vertical-align: middle;\n",
       "    }\n",
       "\n",
       "    .dataframe tbody tr th {\n",
       "        vertical-align: top;\n",
       "    }\n",
       "\n",
       "    .dataframe thead th {\n",
       "        text-align: right;\n",
       "    }\n",
       "</style>\n",
       "<table border=\"1\" class=\"dataframe\">\n",
       "  <thead>\n",
       "    <tr style=\"text-align: right;\">\n",
       "      <th></th>\n",
       "      <th>hits</th>\n",
       "    </tr>\n",
       "  </thead>\n",
       "  <tbody>\n",
       "    <tr>\n",
       "      <th>0</th>\n",
       "      <td>(0.999, 2.0]</td>\n",
       "    </tr>\n",
       "    <tr>\n",
       "      <th>1</th>\n",
       "      <td>(0.999, 2.0]</td>\n",
       "    </tr>\n",
       "    <tr>\n",
       "      <th>2</th>\n",
       "      <td>(0.999, 2.0]</td>\n",
       "    </tr>\n",
       "    <tr>\n",
       "      <th>3</th>\n",
       "      <td>(0.999, 2.0]</td>\n",
       "    </tr>\n",
       "    <tr>\n",
       "      <th>4</th>\n",
       "      <td>(0.999, 2.0]</td>\n",
       "    </tr>\n",
       "  </tbody>\n",
       "</table>\n",
       "</div>"
      ],
      "text/plain": [
       "           hits\n",
       "0  (0.999, 2.0]\n",
       "1  (0.999, 2.0]\n",
       "2  (0.999, 2.0]\n",
       "3  (0.999, 2.0]\n",
       "4  (0.999, 2.0]"
      ]
     },
     "execution_count": 5,
     "metadata": {},
     "output_type": "execute_result"
    }
   ],
   "source": [
    "# Here is an example\n",
    "bins(basic, 'hits', 5, 'qcut').head()"
   ]
  },
  {
   "cell_type": "markdown",
   "metadata": {},
   "source": [
    "## Here is a reference about train/test\n",
    "- Feel free to use any cv on training set\n",
    "- Just keep in mind what is the test set for your prediction target"
   ]
  },
  {
   "cell_type": "markdown",
   "metadata": {},
   "source": [
    "## 4. LGBM Model training \n",
    "- To train LGBM model, convert categorical feature first"
   ]
  },
  {
   "cell_type": "code",
   "execution_count": 5,
   "metadata": {
    "collapsed": true
   },
   "outputs": [],
   "source": [
    "from sklearn.model_selection import train_test_split\n",
    "import lightgbm as lgb\n",
    "from sklearn.metrics import mean_squared_error"
   ]
  },
  {
   "cell_type": "code",
   "execution_count": 86,
   "metadata": {
    "collapsed": true
   },
   "outputs": [],
   "source": [
    "#You should convert your categorical features to int type before you construct Dataset\n",
    "#DataFrame.dtypes for data must be int, float or bool.\n",
    "#visitStartTime, browser, operatingSystem, deviceCategory, continent, country, subContinent, city, region, metro, medium\n",
    "train = basic.copy()\n",
    "train['fullVisitorId'] = train['fullVisitorId'].astype('float')\n",
    "train = train.drop('visitStartTime', axis=1)"
   ]
  },
  {
   "cell_type": "code",
   "execution_count": 87,
   "metadata": {
    "collapsed": true
   },
   "outputs": [],
   "source": [
    "train['browser'] = train['browser'].astype('category')\n",
    "train['operatingSystem'] = train['operatingSystem'].astype('category')\n",
    "train['deviceCategory'] = train['deviceCategory'].astype('category')\n",
    "train['continent'] = train['continent'].astype('category')\n",
    "train['country'] = train['country'].astype('category')\n",
    "train['subContinent'] = train['subContinent'].astype('category')\n",
    "train['city'] = train['city'].astype('category')\n",
    "train['region'] = train['region'].astype('category')\n",
    "train['metro'] = train['metro'].astype('category')\n",
    "train['medium'] = train['medium'].astype('category')"
   ]
  },
  {
   "cell_type": "code",
   "execution_count": null,
   "metadata": {
    "collapsed": true
   },
   "outputs": [],
   "source": []
  },
  {
   "cell_type": "code",
   "execution_count": 88,
   "metadata": {
    "collapsed": true
   },
   "outputs": [],
   "source": [
    "# cross_validation to test data\n",
    "train_only = train.loc[0:453022,:] \n",
    "train_data = train_only.drop('transactionRevenue', axis=1)\n",
    "train_target = train_only['transactionRevenue']\n",
    "#train_target_ln = np.log(train_target+1)"
   ]
  },
  {
   "cell_type": "code",
   "execution_count": 105,
   "metadata": {
    "collapsed": true
   },
   "outputs": [],
   "source": [
    "X_train, X_test, y_train, y_test = train_test_split(train_data, train_target, test_size=0.2, random_state=i)\n",
    "y_train = np.log(y_train+1)\n",
    "y_test = np.log(y_test+1)"
   ]
  },
  {
   "cell_type": "code",
   "execution_count": 128,
   "metadata": {},
   "outputs": [
    {
     "name": "stdout",
     "output_type": "stream",
     "text": [
      "Start training...\n",
      "[1]\tvalid_0's l2: 6.68793\tvalid_0's auc: 0.957957\n",
      "Training until validation scores don't improve for 5 rounds.\n",
      "[2]\tvalid_0's l2: 6.11648\tvalid_0's auc: 0.965674\n",
      "[3]\tvalid_0's l2: 5.8471\tvalid_0's auc: 0.965363\n",
      "[4]\tvalid_0's l2: 5.65425\tvalid_0's auc: 0.965826\n",
      "[5]\tvalid_0's l2: 5.54801\tvalid_0's auc: 0.965354\n",
      "[6]\tvalid_0's l2: 5.4777\tvalid_0's auc: 0.965979\n",
      "[7]\tvalid_0's l2: 5.43148\tvalid_0's auc: 0.966024\n",
      "[8]\tvalid_0's l2: 5.41153\tvalid_0's auc: 0.965662\n",
      "[9]\tvalid_0's l2: 5.39678\tvalid_0's auc: 0.966079\n",
      "[10]\tvalid_0's l2: 5.38357\tvalid_0's auc: 0.965131\n",
      "[11]\tvalid_0's l2: 5.3711\tvalid_0's auc: 0.966584\n",
      "[12]\tvalid_0's l2: 5.38734\tvalid_0's auc: 0.965397\n",
      "[13]\tvalid_0's l2: 5.3951\tvalid_0's auc: 0.965802\n",
      "[14]\tvalid_0's l2: 5.39731\tvalid_0's auc: 0.964907\n",
      "[15]\tvalid_0's l2: 5.40194\tvalid_0's auc: 0.964475\n",
      "[16]\tvalid_0's l2: 5.42078\tvalid_0's auc: 0.965452\n",
      "Early stopping, best iteration is:\n",
      "[11]\tvalid_0's l2: 5.3711\tvalid_0's auc: 0.966584\n",
      "Start predicting...\n",
      "The rmse of prediction is: 2.317562538826323\n"
     ]
    },
    {
     "data": {
      "text/plain": [
       "2.317562538826323"
      ]
     },
     "execution_count": 128,
     "metadata": {},
     "output_type": "execute_result"
    }
   ],
   "source": [
    "run_lgb(X_train, X_test, y_train, y_test)"
   ]
  },
  {
   "cell_type": "code",
   "execution_count": 127,
   "metadata": {
    "collapsed": true
   },
   "outputs": [],
   "source": [
    "#simple lgbm model\n",
    "#create dataset for lightgbm\n",
    "def run_lgb(X_train, X_test, y_train, y_test):\n",
    "    \n",
    "    lgb_train = lgb.Dataset(X_train, y_train, feature_name=list(X_train.columns),\n",
    "                        categorical_feature=['browser', 'operatingSystem', \n",
    "                                             'deviceCategory', 'continent', 'country', 'subContinent', \n",
    "                                             'city', 'region', 'metro', 'medium'])\n",
    "    lgb_eval = lgb.Dataset(X_test, y_test, reference=lgb_train)\n",
    "\n",
    "# specify your configurations as a dict\n",
    "    params = {'task': 'train',\n",
    "              'boosting_type': 'gbdt', \n",
    "              'objective': 'regression',\n",
    "              'metric': {'l2', 'auc'},\n",
    "              'num_leaves': 120, \n",
    "              'learning_rate': 0.27,\n",
    "              'feature_fraction': 0.8,\n",
    "              'bagging_fraction': 0.5,\n",
    "              'bagging_freq': 100,\n",
    "              'verbose': 0}\n",
    "    print('Start training...')\n",
    "# train\n",
    "    gbm = lgb.train(params,\n",
    "                    lgb_train,\n",
    "                    num_boost_round=20,\n",
    "                    valid_sets=lgb_eval,\n",
    "                    early_stopping_rounds=5)\n",
    "    print('Start predicting...')\n",
    "    y_pred = gbm.predict(X_test, num_iteration=gbm.best_iteration)\n",
    "    rmse = mean_squared_error(y_test, y_pred) ** 0.5\n",
    "    print('The rmse of prediction is:', mean_squared_error(y_test, y_pred) ** 0.5)\n",
    "    return rmse"
   ]
  },
  {
   "cell_type": "code",
   "execution_count": 34,
   "metadata": {
    "collapsed": true
   },
   "outputs": [],
   "source": [
    "test = pd.read_csv('./data/test.csv')"
   ]
  },
  {
   "cell_type": "code",
   "execution_count": 35,
   "metadata": {
    "collapsed": true
   },
   "outputs": [],
   "source": [
    "device = pd.DataFrame(test[\"device\"].apply(json.loads).tolist(),index = test.index)\n",
    "geo = pd.DataFrame(test[\"geoNetwork\"].apply(json.loads).tolist(),index = test.index)\n",
    "total = pd.DataFrame(test[\"totals\"].apply(json.loads).tolist(),index = test.index)\n",
    "traffic = pd.DataFrame(test[\"trafficSource\"].apply(json.loads).tolist(),index = test.index)\n",
    "#merge json info back to dataset \n",
    "js_col =  ['device', 'geoNetwork','totals','trafficSource']\n",
    "test = test.drop(columns=js_col)\n",
    "js_df = ['device','geo','total','traffic']\n",
    "for i in js_df:\n",
    "    data_name = i\n",
    "    test = pd.merge(test,vars()[data_name],left_index=True,right_index=True)"
   ]
  },
  {
   "cell_type": "code",
   "execution_count": null,
   "metadata": {
    "collapsed": true
   },
   "outputs": [],
   "source": [
    "len(test.groupby)"
   ]
  },
  {
   "cell_type": "code",
   "execution_count": 54,
   "metadata": {
    "collapsed": true
   },
   "outputs": [],
   "source": [
    "test_pred = test.copy()"
   ]
  },
  {
   "cell_type": "code",
   "execution_count": 55,
   "metadata": {
    "collapsed": true
   },
   "outputs": [],
   "source": [
    "test_pred['bounces']= test_pred[\"bounces\"].fillna(0)"
   ]
  },
  {
   "cell_type": "code",
   "execution_count": 56,
   "metadata": {},
   "outputs": [
    {
     "data": {
      "text/plain": [
       "1    420948\n",
       "0    383736\n",
       "Name: bounces, dtype: int64"
      ]
     },
     "execution_count": 56,
     "metadata": {},
     "output_type": "execute_result"
    }
   ],
   "source": [
    "test_pred['bounces'].value_counts()"
   ]
  },
  {
   "cell_type": "code",
   "execution_count": 57,
   "metadata": {
    "collapsed": true
   },
   "outputs": [],
   "source": [
    "test_pred['Revenue'] = np.where(test_pred['bounces']=='1',0,np.nan)"
   ]
  },
  {
   "cell_type": "code",
   "execution_count": 39,
   "metadata": {},
   "outputs": [
    {
     "data": {
      "text/plain": [
       "(362418, 27)"
      ]
     },
     "execution_count": 39,
     "metadata": {},
     "output_type": "execute_result"
    }
   ],
   "source": [
    "X_train.shape"
   ]
  },
  {
   "cell_type": "code",
   "execution_count": 42,
   "metadata": {
    "collapsed": true
   },
   "outputs": [],
   "source": [
    "X_test = train.loc[453023:,:]\n",
    "#y_test = X_test[\"transactionRevenue\"]\n",
    "X_test =X_test.drop(\"transactionRevenue\",axis=1)"
   ]
  },
  {
   "cell_type": "code",
   "execution_count": 37,
   "metadata": {},
   "outputs": [
    {
     "data": {
      "text/html": [
       "<div>\n",
       "<style scoped>\n",
       "    .dataframe tbody tr th:only-of-type {\n",
       "        vertical-align: middle;\n",
       "    }\n",
       "\n",
       "    .dataframe tbody tr th {\n",
       "        vertical-align: top;\n",
       "    }\n",
       "\n",
       "    .dataframe thead th {\n",
       "        text-align: right;\n",
       "    }\n",
       "</style>\n",
       "<table border=\"1\" class=\"dataframe\">\n",
       "  <thead>\n",
       "    <tr style=\"text-align: right;\">\n",
       "      <th></th>\n",
       "      <th>fullVisitorId</th>\n",
       "      <th>visitNumber</th>\n",
       "      <th>browser</th>\n",
       "      <th>operatingSystem</th>\n",
       "      <th>deviceCategory</th>\n",
       "      <th>month</th>\n",
       "      <th>day</th>\n",
       "      <th>hour</th>\n",
       "      <th>weekday</th>\n",
       "      <th>is_weekend</th>\n",
       "      <th>...</th>\n",
       "      <th>country</th>\n",
       "      <th>subContinent</th>\n",
       "      <th>city</th>\n",
       "      <th>region</th>\n",
       "      <th>metro</th>\n",
       "      <th>hits</th>\n",
       "      <th>newVisits</th>\n",
       "      <th>pageviews</th>\n",
       "      <th>medium</th>\n",
       "      <th>isTrueDirect</th>\n",
       "    </tr>\n",
       "  </thead>\n",
       "  <tbody>\n",
       "    <tr>\n",
       "      <th>453023</th>\n",
       "      <td>6.167871e+18</td>\n",
       "      <td>2</td>\n",
       "      <td>Chrome</td>\n",
       "      <td>Macintosh</td>\n",
       "      <td>desktop</td>\n",
       "      <td>10</td>\n",
       "      <td>16</td>\n",
       "      <td>10</td>\n",
       "      <td>0</td>\n",
       "      <td>False</td>\n",
       "      <td>...</td>\n",
       "      <td>Singapore</td>\n",
       "      <td>Southeast Asia</td>\n",
       "      <td>(not set)</td>\n",
       "      <td>(not set)</td>\n",
       "      <td>(not set)</td>\n",
       "      <td>4</td>\n",
       "      <td>False</td>\n",
       "      <td>4</td>\n",
       "      <td>organic</td>\n",
       "      <td>True</td>\n",
       "    </tr>\n",
       "    <tr>\n",
       "      <th>453024</th>\n",
       "      <td>6.436976e+17</td>\n",
       "      <td>1</td>\n",
       "      <td>Chrome</td>\n",
       "      <td>Windows</td>\n",
       "      <td>desktop</td>\n",
       "      <td>10</td>\n",
       "      <td>16</td>\n",
       "      <td>17</td>\n",
       "      <td>0</td>\n",
       "      <td>False</td>\n",
       "      <td>...</td>\n",
       "      <td>Spain</td>\n",
       "      <td>Southern Europe</td>\n",
       "      <td>Zaragoza</td>\n",
       "      <td>Aragon</td>\n",
       "      <td>(not set)</td>\n",
       "      <td>5</td>\n",
       "      <td>True</td>\n",
       "      <td>5</td>\n",
       "      <td>organic</td>\n",
       "      <td>True</td>\n",
       "    </tr>\n",
       "    <tr>\n",
       "      <th>453025</th>\n",
       "      <td>6.059384e+18</td>\n",
       "      <td>1</td>\n",
       "      <td>Chrome</td>\n",
       "      <td>Macintosh</td>\n",
       "      <td>desktop</td>\n",
       "      <td>10</td>\n",
       "      <td>16</td>\n",
       "      <td>8</td>\n",
       "      <td>0</td>\n",
       "      <td>False</td>\n",
       "      <td>...</td>\n",
       "      <td>France</td>\n",
       "      <td>Western Europe</td>\n",
       "      <td>not available in demo dataset</td>\n",
       "      <td>not available in demo dataset</td>\n",
       "      <td>not available in demo dataset</td>\n",
       "      <td>7</td>\n",
       "      <td>True</td>\n",
       "      <td>7</td>\n",
       "      <td>organic</td>\n",
       "      <td>True</td>\n",
       "    </tr>\n",
       "    <tr>\n",
       "      <th>453026</th>\n",
       "      <td>2.376720e+18</td>\n",
       "      <td>1</td>\n",
       "      <td>Safari</td>\n",
       "      <td>iOS</td>\n",
       "      <td>mobile</td>\n",
       "      <td>10</td>\n",
       "      <td>16</td>\n",
       "      <td>22</td>\n",
       "      <td>0</td>\n",
       "      <td>False</td>\n",
       "      <td>...</td>\n",
       "      <td>United States</td>\n",
       "      <td>Northern America</td>\n",
       "      <td>Mountain View</td>\n",
       "      <td>California</td>\n",
       "      <td>San Francisco-Oakland-San Jose CA</td>\n",
       "      <td>8</td>\n",
       "      <td>True</td>\n",
       "      <td>4</td>\n",
       "      <td>organic</td>\n",
       "      <td>True</td>\n",
       "    </tr>\n",
       "    <tr>\n",
       "      <th>453027</th>\n",
       "      <td>2.314545e+18</td>\n",
       "      <td>1</td>\n",
       "      <td>Safari</td>\n",
       "      <td>Macintosh</td>\n",
       "      <td>desktop</td>\n",
       "      <td>10</td>\n",
       "      <td>17</td>\n",
       "      <td>5</td>\n",
       "      <td>1</td>\n",
       "      <td>False</td>\n",
       "      <td>...</td>\n",
       "      <td>United States</td>\n",
       "      <td>Northern America</td>\n",
       "      <td>San Jose</td>\n",
       "      <td>California</td>\n",
       "      <td>San Francisco-Oakland-San Jose CA</td>\n",
       "      <td>9</td>\n",
       "      <td>True</td>\n",
       "      <td>4</td>\n",
       "      <td>organic</td>\n",
       "      <td>True</td>\n",
       "    </tr>\n",
       "  </tbody>\n",
       "</table>\n",
       "<p>5 rows × 27 columns</p>\n",
       "</div>"
      ],
      "text/plain": [
       "        fullVisitorId  visitNumber browser operatingSystem deviceCategory  \\\n",
       "453023   6.167871e+18            2  Chrome       Macintosh        desktop   \n",
       "453024   6.436976e+17            1  Chrome         Windows        desktop   \n",
       "453025   6.059384e+18            1  Chrome       Macintosh        desktop   \n",
       "453026   2.376720e+18            1  Safari             iOS         mobile   \n",
       "453027   2.314545e+18            1  Safari       Macintosh        desktop   \n",
       "\n",
       "        month  day  hour  weekday  is_weekend     ...             country  \\\n",
       "453023     10   16    10        0       False     ...           Singapore   \n",
       "453024     10   16    17        0       False     ...               Spain   \n",
       "453025     10   16     8        0       False     ...              France   \n",
       "453026     10   16    22        0       False     ...       United States   \n",
       "453027     10   17     5        1       False     ...       United States   \n",
       "\n",
       "            subContinent                           city  \\\n",
       "453023    Southeast Asia                      (not set)   \n",
       "453024   Southern Europe                       Zaragoza   \n",
       "453025    Western Europe  not available in demo dataset   \n",
       "453026  Northern America                  Mountain View   \n",
       "453027  Northern America                       San Jose   \n",
       "\n",
       "                               region                              metro  \\\n",
       "453023                      (not set)                          (not set)   \n",
       "453024                         Aragon                          (not set)   \n",
       "453025  not available in demo dataset      not available in demo dataset   \n",
       "453026                     California  San Francisco-Oakland-San Jose CA   \n",
       "453027                     California  San Francisco-Oakland-San Jose CA   \n",
       "\n",
       "        hits newVisits pageviews   medium isTrueDirect  \n",
       "453023     4     False         4  organic         True  \n",
       "453024     5      True         5  organic         True  \n",
       "453025     7      True         7  organic         True  \n",
       "453026     8      True         4  organic         True  \n",
       "453027     9      True         4  organic         True  \n",
       "\n",
       "[5 rows x 27 columns]"
      ]
     },
     "execution_count": 37,
     "metadata": {},
     "output_type": "execute_result"
    }
   ],
   "source": [
    "X_test.head()"
   ]
  },
  {
   "cell_type": "code",
   "execution_count": 43,
   "metadata": {
    "collapsed": true
   },
   "outputs": [],
   "source": [
    "y_pred = gbm.predict(X_test, num_iteration=gbm.best_iteration)"
   ]
  },
  {
   "cell_type": "code",
   "execution_count": 44,
   "metadata": {},
   "outputs": [
    {
     "data": {
      "text/plain": [
       "(array([3.80274e+05, 3.09200e+03, 2.80000e+02, 6.30000e+01, 1.20000e+01,\n",
       "        3.00000e+00, 4.00000e+00, 1.00000e+00, 5.00000e+00, 2.00000e+00]),\n",
       " array([-6.90973486e+07,  4.18048358e+07,  1.52707020e+08,  2.63609205e+08,\n",
       "         3.74511389e+08,  4.85413573e+08,  5.96315758e+08,  7.07217942e+08,\n",
       "         8.18120126e+08,  9.29022311e+08,  1.03992450e+09]),\n",
       " <a list of 10 Patch objects>)"
      ]
     },
     "execution_count": 44,
     "metadata": {},
     "output_type": "execute_result"
    },
    {
     "data": {
      "image/png": "[encoded data removed]",
      "text/plain": [
       "<Figure size 432x288 with 1 Axes>"
      ]
     },
     "metadata": {},
     "output_type": "display_data"
    }
   ],
   "source": [
    "plt.hist(y_pred)"
   ]
  },
  {
   "cell_type": "code",
   "execution_count": 92,
   "metadata": {},
   "outputs": [
    {
     "data": {
      "text/plain": [
       "356960"
      ]
     },
     "execution_count": 92,
     "metadata": {},
     "output_type": "execute_result"
    }
   ],
   "source": [
    "len(y_pred[y_pred<=0.55])"
   ]
  },
  {
   "cell_type": "code",
   "execution_count": 93,
   "metadata": {
    "collapsed": true
   },
   "outputs": [],
   "source": [
    "y_pred[y_pred<=0.55] = 0"
   ]
  },
  {
   "cell_type": "code",
   "execution_count": 52,
   "metadata": {
    "collapsed": true
   },
   "outputs": [],
   "source": [
    "sample_sub = pd.read_csv(\"./data/sample_submission.csv\")"
   ]
  },
  {
   "cell_type": "code",
   "execution_count": 61,
   "metadata": {},
   "outputs": [
    {
     "data": {
      "text/plain": [
       "(804684, 51)"
      ]
     },
     "execution_count": 61,
     "metadata": {},
     "output_type": "execute_result"
    }
   ],
   "source": [
    "\n",
    "y_pred_2.shape\n",
    "#out = y_pred_2[['fullVisitorId','Revenue_y']]\n",
    "#out.columns = ['fullVisitorId','PredictedLogRevenue']"
   ]
  },
  {
   "cell_type": "code",
   "execution_count": 62,
   "metadata": {},
   "outputs": [
    {
     "data": {
      "text/html": [
       "<div>\n",
       "<style scoped>\n",
       "    .dataframe tbody tr th:only-of-type {\n",
       "        vertical-align: middle;\n",
       "    }\n",
       "\n",
       "    .dataframe tbody tr th {\n",
       "        vertical-align: top;\n",
       "    }\n",
       "\n",
       "    .dataframe thead th {\n",
       "        text-align: right;\n",
       "    }\n",
       "</style>\n",
       "<table border=\"1\" class=\"dataframe\">\n",
       "  <thead>\n",
       "    <tr style=\"text-align: right;\">\n",
       "      <th></th>\n",
       "      <th>fullVisitorId</th>\n",
       "      <th>PredictedLogRevenue</th>\n",
       "    </tr>\n",
       "  </thead>\n",
       "  <tbody>\n",
       "    <tr>\n",
       "      <th>0</th>\n",
       "      <td>6167871330617112363</td>\n",
       "      <td>853015.778582</td>\n",
       "    </tr>\n",
       "    <tr>\n",
       "      <th>1</th>\n",
       "      <td>0643697640977915618</td>\n",
       "      <td>853015.778582</td>\n",
       "    </tr>\n",
       "    <tr>\n",
       "      <th>2</th>\n",
       "      <td>6059383810968229466</td>\n",
       "      <td>853015.778582</td>\n",
       "    </tr>\n",
       "    <tr>\n",
       "      <th>3</th>\n",
       "      <td>2376720078563423631</td>\n",
       "      <td>853015.778582</td>\n",
       "    </tr>\n",
       "    <tr>\n",
       "      <th>4</th>\n",
       "      <td>2314544520795440038</td>\n",
       "      <td>853015.778582</td>\n",
       "    </tr>\n",
       "  </tbody>\n",
       "</table>\n",
       "</div>"
      ],
      "text/plain": [
       "         fullVisitorId  PredictedLogRevenue\n",
       "0  6167871330617112363        853015.778582\n",
       "1  0643697640977915618        853015.778582\n",
       "2  6059383810968229466        853015.778582\n",
       "3  2376720078563423631        853015.778582\n",
       "4  2314544520795440038        853015.778582"
      ]
     },
     "execution_count": 62,
     "metadata": {},
     "output_type": "execute_result"
    }
   ],
   "source": [
    "\n",
    "out.head()"
   ]
  },
  {
   "cell_type": "code",
   "execution_count": 80,
   "metadata": {
    "collapsed": true
   },
   "outputs": [],
   "source": []
  },
  {
   "cell_type": "code",
   "execution_count": 83,
   "metadata": {
    "collapsed": true
   },
   "outputs": [],
   "source": [
    "# out put data by combining with sample dataset\n",
    "# need rephrase; sooooo ugly now!\n",
    "ind = pd.Series(test_pred[test_pred['bounces']==0].index)\n",
    "indx = pd.Series(ind)\n",
    "pred = pd.DataFrame(y_pred,index=ind)\n",
    "new = pd.DataFrame(indx)\n",
    "new['Revenue'] = pred\n",
    "y_pred_2 = pd.merge(test_pred,new,left_index=True,right_on=0, how = \"outer\")\n",
    "y_pred_2[\"Revenue_y\"]= y_pred_2[\"Revenue_y\"].fillna(0)\n",
    "out = y_pred_2[['fullVisitorId','Revenue_y']]\n",
    "out.columns = ['fullVisitorId','PredictedLogRevenue']\n",
    "out_2 = pd.DataFrame(out.groupby('fullVisitorId')['PredictedLogRevenue'].sum())\n",
    "out_2.columns = ['PredictedLogRevenue']\n",
    "#out_2['PredictedLogRevenue'] = np.log(out_2['PredictedLogRevenue'] + 1)\n",
    "#out_3 = out_2.to_frame()\n",
    "out_4 = pd.merge(sample_sub,out_2,left_on=\"fullVisitorId\",right_index=True,how='left')\n",
    "out_4 = out_4.drop('PredictedLogRevenue_x',axis=1)\n",
    "out_4.columns = ['fullVisitorId','PredictedLogRevenue']\n",
    "out_4['PredictedLogRevenue'] = out_4['PredictedLogRevenue'].fillna(0)\n",
    "#out_4.to_csv(\"basic_sub_2.csv\",index=False)"
   ]
  },
  {
   "cell_type": "code",
   "execution_count": 85,
   "metadata": {
    "collapsed": true
   },
   "outputs": [],
   "source": [
    "out_4.to_csv(\"basic_sub_2.csv\",index=False)"
   ]
  },
  {
   "cell_type": "code",
   "execution_count": 84,
   "metadata": {},
   "outputs": [
    {
     "data": {
      "text/html": [
       "<div>\n",
       "<style scoped>\n",
       "    .dataframe tbody tr th:only-of-type {\n",
       "        vertical-align: middle;\n",
       "    }\n",
       "\n",
       "    .dataframe tbody tr th {\n",
       "        vertical-align: top;\n",
       "    }\n",
       "\n",
       "    .dataframe thead th {\n",
       "        text-align: right;\n",
       "    }\n",
       "</style>\n",
       "<table border=\"1\" class=\"dataframe\">\n",
       "  <thead>\n",
       "    <tr style=\"text-align: right;\">\n",
       "      <th></th>\n",
       "      <th>fullVisitorId</th>\n",
       "      <th>PredictedLogRevenue</th>\n",
       "    </tr>\n",
       "  </thead>\n",
       "  <tbody>\n",
       "    <tr>\n",
       "      <th>0</th>\n",
       "      <td>0000000259678714014</td>\n",
       "      <td>0.000000</td>\n",
       "    </tr>\n",
       "    <tr>\n",
       "      <th>1</th>\n",
       "      <td>0000049363351866189</td>\n",
       "      <td>0.000000</td>\n",
       "    </tr>\n",
       "    <tr>\n",
       "      <th>2</th>\n",
       "      <td>0000053049821714864</td>\n",
       "      <td>0.000000</td>\n",
       "    </tr>\n",
       "    <tr>\n",
       "      <th>3</th>\n",
       "      <td>0000059488412965267</td>\n",
       "      <td>0.000000</td>\n",
       "    </tr>\n",
       "    <tr>\n",
       "      <th>4</th>\n",
       "      <td>0000085840370633780</td>\n",
       "      <td>13.656534</td>\n",
       "    </tr>\n",
       "  </tbody>\n",
       "</table>\n",
       "</div>"
      ],
      "text/plain": [
       "         fullVisitorId  PredictedLogRevenue\n",
       "0  0000000259678714014             0.000000\n",
       "1  0000049363351866189             0.000000\n",
       "2  0000053049821714864             0.000000\n",
       "3  0000059488412965267             0.000000\n",
       "4  0000085840370633780            13.656534"
      ]
     },
     "execution_count": 84,
     "metadata": {},
     "output_type": "execute_result"
    }
   ],
   "source": [
    "out_4.head()"
   ]
  }
 ],
 "metadata": {
  "kernelspec": {
   "display_name": "Python 3",
   "language": "python",
   "name": "python3"
  },
  "language_info": {
   "codemirror_mode": {
    "name": "ipython",
    "version": 3
   },
   "file_extension": ".py",
   "mimetype": "text/x-python",
   "name": "python",
   "nbconvert_exporter": "python",
   "pygments_lexer": "ipython3",
   "version": "3.6.2"
  }
 },
 "nbformat": 4,
 "nbformat_minor": 2
}
